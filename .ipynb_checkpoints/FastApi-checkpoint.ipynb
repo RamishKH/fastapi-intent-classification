{
 "cells": [
  {
   "cell_type": "code",
   "execution_count": null,
   "id": "81dd9453-f18f-4d21-ab48-fa6856f110e9",
   "metadata": {},
   "outputs": [],
   "source": [
    "import torch\n",
    "from transformers import AutoModelForSequenceClassification, AutoTokenizer\n",
    "from datasets import load_dataset\n",
    "from fastapi import FastAPI\n",
    "from pydantic import BaseModel\n",
    "\n",
    "# Load trained model and tokenizer\n",
    "model_path = \"./intent_classifier\"\n",
    "model = AutoModelForSequenceClassification.from_pretrained(model_path)\n",
    "tokenizer = AutoTokenizer.from_pretrained(model_path)\n",
    "\n",
    "# Move model to GPU if available\n",
    "device = torch.device(\"cuda\" if torch.cuda.is_available() else \"cpu\")\n",
    "model.to(device)\n",
    "\n",
    "# # Load dataset to get label names\n",
    "# dataset = load_dataset(\"clinc_oos\", \"plus\")\n",
    "# label_names = dataset[\"train\"].features[\"intent\"].names\n",
    "\n",
    "# Define FastAPI app\n",
    "app = FastAPI()\n",
    "\n",
    "# Define request model\n",
    "class TextRequest(BaseModel):\n",
    "    text: str\n",
    "\n",
    "# Inference function\n",
    "def predict_intent(text):\n",
    "    inputs = tokenizer(text, return_tensors=\"pt\", padding=True, truncation=True)\n",
    "    inputs = {key: val.to(device) for key, val in inputs.items()}\n",
    "    with torch.no_grad():\n",
    "        outputs = model(**inputs)\n",
    "    logits = outputs.logits\n",
    "    predicted_class = torch.argmax(logits, dim=1).item()\n",
    "    return predicted_class\n",
    "\n",
    "# API endpoint\n",
    "@app.post(\"/predict\")\n",
    "def predict(request: TextRequest):\n",
    "    intent = predict_intent(request.text)\n",
    "    return {\"intent\": intent}\n"
   ]
  }
 ],
 "metadata": {
  "kernelspec": {
   "display_name": "Python 3 (ipykernel)",
   "language": "python",
   "name": "python3"
  },
  "language_info": {
   "codemirror_mode": {
    "name": "ipython",
    "version": 3
   },
   "file_extension": ".py",
   "mimetype": "text/x-python",
   "name": "python",
   "nbconvert_exporter": "python",
   "pygments_lexer": "ipython3",
   "version": "3.13.2"
  }
 },
 "nbformat": 4,
 "nbformat_minor": 5
}
