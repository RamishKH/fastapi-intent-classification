{
 "cells": [
  {
   "cell_type": "code",
   "execution_count": 3,
   "id": "81dd9453-f18f-4d21-ab48-fa6856f110e9",
   "metadata": {},
   "outputs": [
    {
     "name": "stderr",
     "output_type": "stream",
     "text": [
      "INFO:     Started server process [22368]\n",
      "INFO:     Waiting for application startup.\n",
      "INFO:     Application startup complete.\n",
      "INFO:     Uvicorn running on http://0.0.0.0:8000 (Press CTRL+C to quit)\n"
     ]
    },
    {
     "name": "stdout",
     "output_type": "stream",
     "text": [
      "INFO:     127.0.0.1:57267 - \"GET / HTTP/1.1\" 404 Not Found\n",
      "INFO:     127.0.0.1:57267 - \"GET /favicon.ico HTTP/1.1\" 404 Not Found\n",
      "INFO:     127.0.0.1:57269 - \"GET / HTTP/1.1\" 404 Not Found\n",
      "INFO:     127.0.0.1:57269 - \"GET /favicon.ico HTTP/1.1\" 404 Not Found\n",
      "INFO:     127.0.0.1:57269 - \"GET /docs/ HTTP/1.1\" 307 Temporary Redirect\n",
      "INFO:     127.0.0.1:57269 - \"GET /docs HTTP/1.1\" 200 OK\n",
      "INFO:     127.0.0.1:57269 - \"GET /openapi.json HTTP/1.1\" 200 OK\n",
      "INFO:     127.0.0.1:57274 - \"POST /predict HTTP/1.1\" 200 OK\n",
      "INFO:     127.0.0.1:57274 - \"POST /predict HTTP/1.1\" 200 OK\n",
      "INFO:     127.0.0.1:57275 - \"POST /predict HTTP/1.1\" 200 OK\n"
     ]
    },
    {
     "name": "stderr",
     "output_type": "stream",
     "text": [
      "INFO:     Shutting down\n",
      "INFO:     Waiting for application shutdown.\n",
      "INFO:     Application shutdown complete.\n",
      "INFO:     Finished server process [22368]\n"
     ]
    }
   ],
   "source": [
    "import torch\n",
    "from transformers import AutoModelForSequenceClassification, AutoTokenizer\n",
    "from datasets import load_dataset\n",
    "from fastapi import FastAPI\n",
    "from pydantic import BaseModel\n",
    "import nest_asyncio\n",
    "import uvicorn\n",
    "\n",
    "# Load trained model and tokenizer\n",
    "model_path = \"./intent_classifier\"\n",
    "model = AutoModelForSequenceClassification.from_pretrained(model_path)\n",
    "tokenizer = AutoTokenizer.from_pretrained(model_path)\n",
    "\n",
    "# Move model to GPU if available\n",
    "device = torch.device(\"cuda\" if torch.cuda.is_available() else \"cpu\")\n",
    "model.to(device)\n",
    "\n",
    "# # Load dataset to get label names\n",
    "# dataset = load_dataset(\"clinc_oos\", \"plus\")\n",
    "# label_names = dataset[\"train\"].features[\"intent\"].names\n",
    "\n",
    "# Define FastAPI app\n",
    "app = FastAPI()\n",
    "\n",
    "# Define request model\n",
    "class TextRequest(BaseModel):\n",
    "    text: str\n",
    "\n",
    "# Inference function\n",
    "def predict_intent(text):\n",
    "    inputs = tokenizer(text, return_tensors=\"pt\", padding=True, truncation=True)\n",
    "    inputs = {key: val.to(device) for key, val in inputs.items()}\n",
    "    with torch.no_grad():\n",
    "        outputs = model(**inputs)\n",
    "    logits = outputs.logits\n",
    "    predicted_class = torch.argmax(logits, dim=1).item()\n",
    "    return predicted_class\n",
    "\n",
    "# API endpoint\n",
    "@app.post(\"/predict\")\n",
    "def predict(request: TextRequest):\n",
    "    intent = predict_intent(request.text)\n",
    "    return {\"intent\": intent}\n",
    "\n",
    "nest_asyncio.apply()\n",
    "uvicorn.run(app, host=\"0.0.0.0\", port=8000)\n"
   ]
  },
  {
   "cell_type": "code",
   "execution_count": null,
   "id": "11746821-0553-4da3-ae81-d63fa5befddb",
   "metadata": {},
   "outputs": [],
   "source": []
  }
 ],
 "metadata": {
  "kernelspec": {
   "display_name": "Python 3 (ipykernel)",
   "language": "python",
   "name": "python3"
  },
  "language_info": {
   "codemirror_mode": {
    "name": "ipython",
    "version": 3
   },
   "file_extension": ".py",
   "mimetype": "text/x-python",
   "name": "python",
   "nbconvert_exporter": "python",
   "pygments_lexer": "ipython3",
   "version": "3.13.2"
  }
 },
 "nbformat": 4,
 "nbformat_minor": 5
}
